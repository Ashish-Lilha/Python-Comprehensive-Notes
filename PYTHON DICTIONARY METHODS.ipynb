{
 "cells": [
  {
   "cell_type": "markdown",
   "metadata": {},
   "source": [
    "#Python Dictionary Methods"
   ]
  },
  {
   "cell_type": "code",
   "execution_count": 1,
   "metadata": {},
   "outputs": [
    {
     "name": "stdout",
     "output_type": "stream",
     "text": [
      "{}\n"
     ]
    }
   ],
   "source": [
    "# The clear() method removes all the elements from a dictionary.\n",
    "# Syntax dictionary.clear()\n",
    "car = {\n",
    "  \"brand\": \"Ford\",\n",
    "  \"model\": \"Mustang\",\n",
    "  \"year\": 1964\n",
    "}\n",
    "car.clear()\n",
    "print(car)"
   ]
  },
  {
   "cell_type": "code",
   "execution_count": 2,
   "metadata": {},
   "outputs": [
    {
     "name": "stdout",
     "output_type": "stream",
     "text": [
      "2206263662016\n",
      "2206263661824\n",
      "{'brand': 'Ford', 'model': 'Mustang', 'year': 1964}\n",
      "{'brand': 'Ford', 'model': 'Mustang', 'year': 1964}\n",
      "False True\n"
     ]
    }
   ],
   "source": [
    "# copy() Returns a copy of the dictionary\n",
    "# Syntax dictionary.copy()\n",
    "car = {\n",
    "  \"brand\": \"Ford\",\n",
    "  \"model\": \"Mustang\",\n",
    "  \"year\": 1964\n",
    "}\n",
    "print(id(car))\n",
    "b = car.copy()\n",
    "print(id(b))  # both are in diff memory location\n",
    "print(car)\n",
    "print(b)\n",
    "print(car is b, car == b)"
   ]
  },
  {
   "cell_type": "code",
   "execution_count": 3,
   "metadata": {},
   "outputs": [
    {
     "name": "stdout",
     "output_type": "stream",
     "text": [
      "{'key1': 0, 'key2': 0, 'key3': 0}\n",
      "{'key1': [4, 5, 6], 'key2': [4, 5, 6], 'key3': [4, 5, 6]}\n"
     ]
    }
   ],
   "source": [
    "# The fromkeys() method returns a dictionary with specified keys and specified value.\n",
    "# dict.fromkeys(keys, value)\n",
    "# keys\tRequired. An iterable specifying the keys of the new dictionary\n",
    "# value\tOptional. The value for all keys. Default value is None\n",
    "x = ('key1', 'key2', 'key3')\n",
    "y = 0\n",
    "thisdict = dict.fromkeys(x, y)\n",
    "print(thisdict)\n",
    "z = [4,5,6]\n",
    "print(dict.fromkeys(x, z))"
   ]
  },
  {
   "cell_type": "code",
   "execution_count": 4,
   "metadata": {},
   "outputs": [
    {
     "name": "stdout",
     "output_type": "stream",
     "text": [
      "{'key1': None, 'key2': None, 'key3': None}\n"
     ]
    }
   ],
   "source": [
    "x = ('key1', 'key2', 'key3')\n",
    "thisdict = dict.fromkeys(x) # default value is None\n",
    "print(thisdict)"
   ]
  },
  {
   "cell_type": "code",
   "execution_count": 5,
   "metadata": {},
   "outputs": [
    {
     "name": "stdout",
     "output_type": "stream",
     "text": [
      "Mustang\n",
      "15000\n"
     ]
    }
   ],
   "source": [
    "# get() Returns the value of the specified key\n",
    "# Syntax - dictionary.get(keyname, value)\n",
    "# Value is Optional. A value to return if the specified key does not exist.\n",
    "# Default value is None\n",
    "car = {\n",
    "  \"brand\": \"Ford\",\n",
    "  \"model\": \"Mustang\",\n",
    "  \"year\": 1964\n",
    "}\n",
    "print(car.get(\"model\"))\n",
    "print( car.get(\"price\", 15000)) # Key not present hence 15000"
   ]
  },
  {
   "cell_type": "code",
   "execution_count": 6,
   "metadata": {},
   "outputs": [
    {
     "name": "stdout",
     "output_type": "stream",
     "text": [
      "dict_items([('brand', 'Ford'), ('model', 'Mustang'), ('year', 1964)])\n"
     ]
    }
   ],
   "source": [
    "# The items() method returns a view object.\n",
    "# The view object contains the key-value pairs of dictionary as tuples in list.\n",
    "# dictionary.items()\n",
    "\n",
    "car = {\n",
    "  \"brand\": \"Ford\",\n",
    "  \"model\": \"Mustang\",\n",
    "  \"year\": 1964\n",
    "}\n",
    "x = car.items()\n",
    "print(x)"
   ]
  },
  {
   "cell_type": "code",
   "execution_count": 7,
   "metadata": {},
   "outputs": [
    {
     "name": "stdout",
     "output_type": "stream",
     "text": [
      "dict_items([('brand', 'Ford'), ('model', 'Mustang'), ('year', 2018)])\n"
     ]
    }
   ],
   "source": [
    "# When an item in the dictionary changes value, the view object also gets updated:\n",
    "car = {\n",
    "  \"brand\": \"Ford\",\n",
    "  \"model\": \"Mustang\",\n",
    "  \"year\": 1964\n",
    "}\n",
    "x = car.items()\n",
    "car[\"year\"] = 2018\n",
    "print(x)"
   ]
  },
  {
   "cell_type": "code",
   "execution_count": 8,
   "metadata": {},
   "outputs": [
    {
     "name": "stdout",
     "output_type": "stream",
     "text": [
      "dict_keys(['brand', 'model', 'year'])\n",
      "dict_keys(['brand', 'model', 'year', 'price'])\n"
     ]
    }
   ],
   "source": [
    "# The keys() method returns a view object.\n",
    "# The view object contains the keys of the dictionary, as a list.\n",
    "# The view object will reflect any changes done to the dictionary, see example below\n",
    "# dictionary.keys() is Syntax\n",
    "car = {\n",
    "  \"brand\": \"Ford\",\n",
    "  \"model\": \"Mustang\",\n",
    "  \"year\": 1964\n",
    "}\n",
    "x = car.keys()\n",
    "print(x)\n",
    "car['price'] = 14000\n",
    "print(car.keys()) # keys got updated"
   ]
  },
  {
   "cell_type": "code",
   "execution_count": 9,
   "metadata": {},
   "outputs": [
    {
     "name": "stdout",
     "output_type": "stream",
     "text": [
      "{'brand': 'Ford', 'year': 1964}\n",
      "Mustang\n"
     ]
    },
    {
     "data": {
      "text/plain": [
       "'No Key'"
      ]
     },
     "execution_count": 9,
     "metadata": {},
     "output_type": "execute_result"
    }
   ],
   "source": [
    "# pop() Removes the element with the specified key\\\n",
    "# dictionary.pop(keyname, defaultvalue)\n",
    "# defaultvalue\tOptional. A value to return if the specified key do not exist.\n",
    "#If this default is not set & no item with the specified key is found, an error is raised\n",
    "car = {\n",
    "  \"brand\": \"Ford\",\n",
    "  \"model\": \"Mustang\",\n",
    "  \"year\": 1964\n",
    "}\n",
    "x = car.pop(\"model\")\n",
    "print(car)\n",
    "print(x)\n",
    "car.pop(\"Jaguar\",\"No Key\")"
   ]
  },
  {
   "cell_type": "code",
   "execution_count": 10,
   "metadata": {},
   "outputs": [
    {
     "name": "stdout",
     "output_type": "stream",
     "text": [
      "{'brand': 'Ford', 'model': 'Mustang'}\n",
      "('year', 1964)\n"
     ]
    }
   ],
   "source": [
    "# The popitem() method removes the item that was last inserted into the dictionary. In versions before 3.7, the popitem() method removes a random item.\n",
    "# The removed item is the return value of the popitem() method, as a tuple, see example below.\n",
    "# Syntax dictionary.popitem()\n",
    "car = {\n",
    "  \"brand\": \"Ford\",\n",
    "  \"model\": \"Mustang\",\n",
    "  \"year\": 1964\n",
    "}\n",
    "x = car.popitem()\n",
    "print(car)\n",
    "print(x)"
   ]
  },
  {
   "cell_type": "code",
   "execution_count": 11,
   "metadata": {},
   "outputs": [
    {
     "name": "stdout",
     "output_type": "stream",
     "text": [
      "white\n",
      "Mustang\n"
     ]
    }
   ],
   "source": [
    "# The setdefault() method returns the value of the item with the specified key.\n",
    "# If the key does not exist, insert the key, with the specified value\n",
    "\n",
    "# dictionary.setdefault(keyname, value)\n",
    "car = {\n",
    "  \"brand\": \"Ford\",\n",
    "  \"model\": \"Mustang\",\n",
    "  \"year\": 1964\n",
    "}\n",
    "x = car.setdefault(\"color\", \"white\")\n",
    "print(x)\n",
    "\n",
    "y = car.setdefault(\"model\", \"Bronco\")\n",
    "print(y)"
   ]
  },
  {
   "cell_type": "code",
   "execution_count": 12,
   "metadata": {},
   "outputs": [
    {
     "name": "stdout",
     "output_type": "stream",
     "text": [
      "{'brand': 'Ford', 'model': 'Mustang', 'year': 1964, 'color': 'White'}\n",
      "{'brand': 'Ford', 'model': 'Mustang', 'year': 1964, 'color': 'White', 'wheels': 4}\n",
      "{'brand': 'Ford', 'model': 'Mustang', 'year': 1964, 'color': 'White', 'wheels': 4, 'who': 1, 'Feel': 56}\n"
     ]
    }
   ],
   "source": [
    "# The update() method inserts the specified items to the dictionary.\n",
    "# The specified items can be a dictionary, or an iterable object with key value pairs.\n",
    "# dictionary.update(iterable)\n",
    "car = {\n",
    "  \"brand\": \"Ford\",\n",
    "  \"model\": \"Mustang\",\n",
    "  \"year\": 1964\n",
    "}\n",
    "car.update({\"color\": \"White\"})\n",
    "print(car)\n",
    "car.update([(\"wheels\",4),])\n",
    "print(car)\n",
    "car.update([(\"who\",1),(\"Feel\",56)])\n",
    "print(car)"
   ]
  },
  {
   "cell_type": "code",
   "execution_count": 13,
   "metadata": {},
   "outputs": [
    {
     "name": "stdout",
     "output_type": "stream",
     "text": [
      "dict_values(['Ford', 'Mustang', 1964])\n",
      "dict_values(['Ford', 'Mustang', 2018])\n"
     ]
    }
   ],
   "source": [
    "# The values() method returns a view object which contains the values of the dictionary, as a list.\n",
    "# The view object will reflect any changes done to the dictionary.\n",
    "# When a values is changed in the dictionary, the view object also gets updated.\n",
    "car = {\n",
    "  \"brand\": \"Ford\",\n",
    "  \"model\": \"Mustang\",\n",
    "  \"year\": 1964\n",
    "}\n",
    "\n",
    "x = car.values()\n",
    "print(x)\n",
    "car[\"year\"] = 2018\n",
    "print(x)"
   ]
  }
 ],
 "metadata": {
  "kernelspec": {
   "display_name": "Python 3",
   "language": "python",
   "name": "python3"
  },
  "language_info": {
   "codemirror_mode": {
    "name": "ipython",
    "version": 3
   },
   "file_extension": ".py",
   "mimetype": "text/x-python",
   "name": "python",
   "nbconvert_exporter": "python",
   "pygments_lexer": "ipython3",
   "version": "3.8.5"
  }
 },
 "nbformat": 4,
 "nbformat_minor": 4
}
