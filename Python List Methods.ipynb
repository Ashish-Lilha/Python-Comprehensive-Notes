{
 "cells": [
  {
   "cell_type": "markdown",
   "metadata": {},
   "source": [
    "# Python List Methods"
   ]
  },
  {
   "cell_type": "code",
   "execution_count": 2,
   "metadata": {},
   "outputs": [
    {
     "name": "stdout",
     "output_type": "stream",
     "text": [
      "2039853722880\n",
      "['apple', 'banana', 'cherry', ['Ford', 'BMW', 'Volvo']]\n",
      "2039853722880\n"
     ]
    }
   ],
   "source": [
    "# String Methods do not modify Actual String BUT List Methods modify actual List\n",
    "\n",
    "#append() Adds an element at the end of the list\n",
    "# Syntax -> list.append(elmnt)\n",
    "a = [\"apple\", \"banana\", \"cherry\"]\n",
    "print(id(a))\n",
    "b = [\"Ford\", \"BMW\", \"Volvo\"]\n",
    "a.append(b)\n",
    "print(a)\n",
    "print(id(a))"
   ]
  },
  {
   "cell_type": "code",
   "execution_count": 3,
   "metadata": {},
   "outputs": [
    {
     "name": "stdout",
     "output_type": "stream",
     "text": [
      "2039853942272\n",
      "[]\n",
      "2039853942272\n"
     ]
    }
   ],
   "source": [
    "#The clear() method removes all the elements from a list.\n",
    "# Syntax -- list.clear()\n",
    "fruits = ['apple', 'banana', 'cherry', 'orange']\n",
    "print(id(fruits))\n",
    "fruits.clear()\n",
    "print(fruits)\n",
    "print(id(fruits))"
   ]
  },
  {
   "cell_type": "code",
   "execution_count": 4,
   "metadata": {},
   "outputs": [
    {
     "name": "stdout",
     "output_type": "stream",
     "text": [
      "True\n",
      "False\n",
      "2039853757888 2039853722688\n"
     ]
    }
   ],
   "source": [
    "a = [\"apple\", \"banana\", \"cherry\"]\n",
    "b = [\"apple\", \"banana\", \"cherry\"]\n",
    "print(a == b) # checks equality of value\n",
    "print(a is b) # checks equality of memory location\n",
    "print(id(a), id(b))"
   ]
  },
  {
   "cell_type": "code",
   "execution_count": 5,
   "metadata": {},
   "outputs": [
    {
     "name": "stdout",
     "output_type": "stream",
     "text": [
      "['apple', 'banana', 'cherry']\n",
      "2039853736640 2039853736640\n",
      "['Amit', 'banana', 'cherry'] ['Amit', 'banana', 'cherry']\n"
     ]
    }
   ],
   "source": [
    "a = [\"apple\", \"banana\", \"cherry\"]\n",
    "b = a\n",
    "print(b)\n",
    "print(id(a), id(b)) # memory of both are are different\n",
    "a[0] = 'Amit'\n",
    "print(a,b)  # memory of b is also modified"
   ]
  },
  {
   "cell_type": "code",
   "execution_count": 6,
   "metadata": {},
   "outputs": [
    {
     "name": "stdout",
     "output_type": "stream",
     "text": [
      "2039852993920 2039853739456\n"
     ]
    }
   ],
   "source": [
    "#copy()  Returns a copy of the list\n",
    "a = [\"apple\", \"banana\", \"cherry\"]\n",
    "b = a.copy()\n",
    "print(id(a), id(b))"
   ]
  },
  {
   "cell_type": "code",
   "execution_count": 7,
   "metadata": {},
   "outputs": [
    {
     "data": {
      "text/plain": [
       "1"
      ]
     },
     "execution_count": 7,
     "metadata": {},
     "output_type": "execute_result"
    }
   ],
   "source": [
    "# count() The count() method returns the number of elements with the specified value. \n",
    "# Syntax  list.count(value) , if No value is supplied then it throws error.\n",
    "a.count(\"apple\")"
   ]
  },
  {
   "cell_type": "code",
   "execution_count": 8,
   "metadata": {},
   "outputs": [
    {
     "name": "stdout",
     "output_type": "stream",
     "text": [
      "['apple', 'banana', 'cherry', 'Ford', 'BMW', 'Volvo']\n"
     ]
    }
   ],
   "source": [
    "# extend() Add the elements of a list (or any iterable), to the end of the current list\n",
    "fruits = ['apple', 'banana', 'cherry']\n",
    "cars = ['Ford', 'BMW', 'Volvo']\n",
    "fruits.extend(cars)\n",
    "print(fruits)\n",
    "fruits.extend('we')"
   ]
  },
  {
   "cell_type": "code",
   "execution_count": 9,
   "metadata": {},
   "outputs": [
    {
     "name": "stdout",
     "output_type": "stream",
     "text": [
      "['apple', 'banana', 'cherry', 'Ford', 'BMW', 'Volvo', 'w', 'e', 'w', 'e']\n",
      "['apple', 'banana', 'cherry', 'Ford', 'BMW', 'Volvo', 'w', 'e', 'w', 'e', 3, 4]\n"
     ]
    }
   ],
   "source": [
    "#Syntax list.extend(iterable)\n",
    "fruits.extend('we')\n",
    "print(fruits)\n",
    "fruits.extend((3,4))\n",
    "print(fruits)"
   ]
  },
  {
   "cell_type": "code",
   "execution_count": 10,
   "metadata": {},
   "outputs": [
    {
     "ename": "TypeError",
     "evalue": "'int' object is not iterable",
     "output_type": "error",
     "traceback": [
      "\u001b[1;31m---------------------------------------------------------------------------\u001b[0m",
      "\u001b[1;31mTypeError\u001b[0m                                 Traceback (most recent call last)",
      "\u001b[1;32m<ipython-input-10-0555981458b3>\u001b[0m in \u001b[0;36m<module>\u001b[1;34m\u001b[0m\n\u001b[1;32m----> 1\u001b[1;33m \u001b[0mfruits\u001b[0m\u001b[1;33m.\u001b[0m\u001b[0mextend\u001b[0m\u001b[1;33m(\u001b[0m\u001b[1;36m3\u001b[0m\u001b[1;33m)\u001b[0m \u001b[1;31m# extend work only on iterables -- list , set , tuple, string\u001b[0m\u001b[1;33m\u001b[0m\u001b[1;33m\u001b[0m\u001b[0m\n\u001b[0m",
      "\u001b[1;31mTypeError\u001b[0m: 'int' object is not iterable"
     ]
    }
   ],
   "source": [
    "fruits.extend(3) # extend work only on iterables -- list , set , tuple, string"
   ]
  },
  {
   "cell_type": "code",
   "execution_count": 11,
   "metadata": {},
   "outputs": [
    {
     "name": "stdout",
     "output_type": "stream",
     "text": [
      "3\n",
      "1\n"
     ]
    }
   ],
   "source": [
    "# The index() method returns the position at the first occurrence of the specified value.\n",
    "# Note: The index() method only returns the first occurrence of the value.\n",
    "fruits = [4, 55, 64, 32, 16, 32]\n",
    "print(fruits.index(32))\n",
    "ASD = 'tyiyrgh'\n",
    "print(ASD.index('y'))"
   ]
  },
  {
   "cell_type": "code",
   "execution_count": 12,
   "metadata": {},
   "outputs": [
    {
     "name": "stdout",
     "output_type": "stream",
     "text": [
      "2039853532544\n",
      "2039853532544\n",
      "['apple', 'orange', 'banana', 'cherry']\n"
     ]
    }
   ],
   "source": [
    "# The insert() method inserts the specified value at the specified position.\n",
    "# list.insert(pos, elmnt)  - Syntax\n",
    "fruits = ['apple', 'banana', 'cherry']\n",
    "print(id(fruits))\n",
    "fruits.insert(1, \"orange\")\n",
    "print(id(fruits))\n",
    "print(fruits) # orange inserted at index 1"
   ]
  },
  {
   "cell_type": "code",
   "execution_count": 13,
   "metadata": {},
   "outputs": [
    {
     "name": "stdout",
     "output_type": "stream",
     "text": [
      "banana\n",
      "['apple', 'cherry']\n"
     ]
    }
   ],
   "source": [
    "# pop()  Removes the element at the specified position\n",
    "# list.pop(pos)  , The element gets removed at pop index\n",
    "# The pop() method returns removed value.\n",
    "fruits = ['apple', 'banana', 'cherry']\n",
    "x = fruits.pop(1)\n",
    "print(x)\n",
    "print(fruits)"
   ]
  },
  {
   "cell_type": "code",
   "execution_count": 14,
   "metadata": {},
   "outputs": [
    {
     "name": "stdout",
     "output_type": "stream",
     "text": [
      "['apple', 'cherry']\n"
     ]
    }
   ],
   "source": [
    "# The remove() method removes the first occurrence of the element with the specified value.\n",
    "# syntax list.remove(element)\n",
    "fruits = ['apple', 'banana', 'cherry']\n",
    "\n",
    "fruits.remove(\"banana\")\n",
    "print(fruits)"
   ]
  },
  {
   "cell_type": "code",
   "execution_count": 15,
   "metadata": {},
   "outputs": [
    {
     "name": "stdout",
     "output_type": "stream",
     "text": [
      "['cherry', 'banana', 'apple']\n",
      "None\n"
     ]
    }
   ],
   "source": [
    "# reverse()\tReverses the order of the list\n",
    "# Syntax list.reverse()\n",
    "fruits = ['apple', 'banana', 'cherry']\n",
    "a = fruits.reverse() ##WRONG WAY -- REVERSE or any List method changes actual list but do not return any thing\n",
    "print(fruits)\n",
    "print(a)\n"
   ]
  },
  {
   "cell_type": "code",
   "execution_count": 16,
   "metadata": {},
   "outputs": [
    {
     "data": {
      "text/plain": [
       "['BMW', 'Ford', 'Volvo']"
      ]
     },
     "execution_count": 16,
     "metadata": {},
     "output_type": "execute_result"
    }
   ],
   "source": [
    "cars = ['Ford', 'BMW', 'Volvo']\n",
    "cars.sort()\n",
    "cars"
   ]
  },
  {
   "cell_type": "code",
   "execution_count": 17,
   "metadata": {},
   "outputs": [
    {
     "data": {
      "text/plain": [
       "['Volvo', 'Ford', 'BMW']"
      ]
     },
     "execution_count": 17,
     "metadata": {},
     "output_type": "execute_result"
    }
   ],
   "source": [
    "#The sort() method sorts the list ascending by default.\n",
    "#You can also make a function to decide the sorting criteria(s)\n",
    "#Syntax ---- list.sort(reverse=True|False, key=myFunc)\n",
    "cars = ['Ford', 'BMW', 'Volvo']\n",
    "cars.sort(reverse=True) # reverse = True sorts in descending order\n",
    "cars"
   ]
  },
  {
   "cell_type": "code",
   "execution_count": 18,
   "metadata": {},
   "outputs": [
    {
     "name": "stdout",
     "output_type": "stream",
     "text": [
      "['VW', 'BMW', 'Ford', 'Mitsubishi']\n",
      "['Mitsubishi', 'Ford', 'BMW', 'VW']\n"
     ]
    }
   ],
   "source": [
    "def myFunc(e):\n",
    "  return len(e)\n",
    "\n",
    "cars = ['Ford', 'Mitsubishi', 'BMW', 'VW']\n",
    "\n",
    "cars.sort(key=myFunc)\n",
    "print(cars)\n",
    "cars.sort(key=myFunc, reverse = True)\n",
    "print(cars)"
   ]
  },
  {
   "cell_type": "code",
   "execution_count": 19,
   "metadata": {},
   "outputs": [
    {
     "name": "stdout",
     "output_type": "stream",
     "text": [
      "[{'car': 'Mitsubishi', 'year': 2000}, {'car': 'Ford', 'year': 2005}, {'car': 'VW', 'year': 2011}, {'car': 'BMW', 'year': 2019}]\n"
     ]
    }
   ],
   "source": [
    "def myFunc(e):\n",
    "  return e['year']\n",
    "\n",
    "cars = [\n",
    "  {'car': 'Ford', 'year': 2005},\n",
    "  {'car': 'Mitsubishi', 'year': 2000},\n",
    "  {'car': 'BMW', 'year': 2019},\n",
    "  {'car': 'VW', 'year': 2011}\n",
    "]\n",
    "\n",
    "cars.sort(key=myFunc) # sorts by year a\n",
    "print(cars)"
   ]
  }
 ],
 "metadata": {
  "kernelspec": {
   "display_name": "Python 3",
   "language": "python",
   "name": "python3"
  },
  "language_info": {
   "codemirror_mode": {
    "name": "ipython",
    "version": 3
   },
   "file_extension": ".py",
   "mimetype": "text/x-python",
   "name": "python",
   "nbconvert_exporter": "python",
   "pygments_lexer": "ipython3",
   "version": "3.8.5"
  }
 },
 "nbformat": 4,
 "nbformat_minor": 4
}
