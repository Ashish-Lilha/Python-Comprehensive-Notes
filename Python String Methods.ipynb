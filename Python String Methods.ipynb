{
 "cells": [
  {
   "cell_type": "code",
   "execution_count": 1,
   "metadata": {},
   "outputs": [],
   "source": [
    "#STRING METHODS"
   ]
  },
  {
   "cell_type": "code",
   "execution_count": 2,
   "metadata": {},
   "outputs": [],
   "source": [
    "a = \"jai ho MaRatha\"\n",
    "print(a.capitalize())"
   ]
  },
  {
   "cell_type": "code",
   "execution_count": 3,
   "metadata": {},
   "outputs": [
    {
     "name": "stdout",
     "output_type": "stream",
     "text": [
      "jai ho maratha\n"
     ]
    }
   ],
   "source": [
    "a = \"jai ho MaRatha\"\n",
    "print(a.casefold())"
   ]
  },
  {
   "cell_type": "code",
   "execution_count": 4,
   "metadata": {},
   "outputs": [
    {
     "name": "stdout",
     "output_type": "stream",
     "text": [
      "OOOOOOOAppleOOOOOOOO\n",
      "       Apple        \n"
     ]
    }
   ],
   "source": [
    "txt = \"Apple\"\n",
    "print(txt.center(20, \"O\"))\n",
    "print(txt.center(20))"
   ]
  },
  {
   "cell_type": "code",
   "execution_count": 5,
   "metadata": {},
   "outputs": [
    {
     "name": "stdout",
     "output_type": "stream",
     "text": [
      "b'We will win 1 match'\n",
      "b'We will win 1 match'\n",
      "b'We will win 1 match'\n"
     ]
    }
   ],
   "source": [
    "ABC = \"We will win 1 match\"\n",
    "print(ABC.encode())\n",
    "print(ABC.encode('utf-8'))\n",
    "print(ABC.encode('ascii'))"
   ]
  },
  {
   "cell_type": "code",
   "execution_count": 6,
   "metadata": {},
   "outputs": [
    {
     "name": "stdout",
     "output_type": "stream",
     "text": [
      "b'ASDF#$%^&..~?'\n",
      "b'ASDF#$%^&..~?'\n",
      "b'ASDF#$%^&..~?'\n",
      "70\n"
     ]
    }
   ],
   "source": [
    "ABC = \"ASDF#$%^&..~?\"\n",
    "print(ABC.encode())\n",
    "print(ABC.encode('utf-8'))\n",
    "print(ABC.encode('ascii'))\n",
    "print(ABC.encode('ascii')[3])"
   ]
  },
  {
   "cell_type": "code",
   "execution_count": 7,
   "metadata": {},
   "outputs": [
    {
     "name": "stdout",
     "output_type": "stream",
     "text": [
      "3\n"
     ]
    }
   ],
   "source": [
    "y = \"human are most intelligent and human show humanity\"\n",
    "x = y.count(\"human\")\n",
    "print(x)"
   ]
  },
  {
   "cell_type": "code",
   "execution_count": 8,
   "metadata": {},
   "outputs": [
    {
     "name": "stdout",
     "output_type": "stream",
     "text": [
      "1\n"
     ]
    }
   ],
   "source": [
    "#search on particular index\n",
    "y = \"human are most intelligent and human show humanity\"\n",
    "x = y.count(\"human\", 1,45)\n",
    "print(x)"
   ]
  },
  {
   "cell_type": "code",
   "execution_count": 9,
   "metadata": {},
   "outputs": [
    {
     "name": "stdout",
     "output_type": "stream",
     "text": [
      "True\n"
     ]
    }
   ],
   "source": [
    "y = \"human are most intelligent and human show humanity\"\n",
    "x = y.endswith(\"ty\")\n",
    "print(x)"
   ]
  },
  {
   "cell_type": "code",
   "execution_count": 10,
   "metadata": {},
   "outputs": [
    {
     "name": "stdout",
     "output_type": "stream",
     "text": [
      "True\n",
      "False\n",
      "True\n"
     ]
    }
   ],
   "source": [
    "#string.endswith(value, start, end)\n",
    "y = \"human are most intelligent and human show humanity\"\n",
    "x = y.endswith(\"ty\", 10)\n",
    "z = y.endswith(\"ty\", 10, 20)\n",
    "print(x)\n",
    "print(z)\n",
    "# startswith() Returns true if the string starts with the specified value\n",
    "print(y.startswith('hum'))"
   ]
  },
  {
   "cell_type": "code",
   "execution_count": 11,
   "metadata": {},
   "outputs": [],
   "source": [
    "#expandtabs  - Sets the tab size of the string  \n",
    "\n",
    "txt = \"H\\te\\tl\\tl\\to\"\n",
    "x =  txt.expandtabs(2)"
   ]
  },
  {
   "cell_type": "code",
   "execution_count": 12,
   "metadata": {},
   "outputs": [
    {
     "name": "stdout",
     "output_type": "stream",
     "text": [
      "x is 7\n",
      "y is 19\n",
      "7\n"
     ]
    }
   ],
   "source": [
    "# Find  string.find(value, start, end)  \n",
    "#The find() method finds the first occurrence of the specified value from a given index. Default is 0th index\n",
    "\n",
    "KFC = \"Hello, Man I will be a Man.\"\n",
    "\n",
    "x = KFC.find(\"Man\")\n",
    "y = KFC.find(\"e\", 5, 40)\n",
    "print('x is ' + str(x))\n",
    "print('y is ' + str(y))\n",
    "m = KFC.index(\"M\", 5, 10)\n",
    "print(m)"
   ]
  },
  {
   "cell_type": "code",
   "execution_count": 13,
   "metadata": {},
   "outputs": [
    {
     "ename": "ValueError",
     "evalue": "substring not found",
     "output_type": "error",
     "traceback": [
      "\u001b[1;31m---------------------------------------------------------------------------\u001b[0m",
      "\u001b[1;31mValueError\u001b[0m                                Traceback (most recent call last)",
      "\u001b[1;32m<ipython-input-13-d106664df116>\u001b[0m in \u001b[0;36m<module>\u001b[1;34m\u001b[0m\n\u001b[0;32m      1\u001b[0m \u001b[1;31m# The find() method is almost the same as the index() method, the only difference is\u001b[0m\u001b[1;33m\u001b[0m\u001b[1;33m\u001b[0m\u001b[1;33m\u001b[0m\u001b[0m\n\u001b[0;32m      2\u001b[0m \u001b[1;31m#that the index() method raises an exception if the value is not found.\u001b[0m\u001b[1;33m\u001b[0m\u001b[1;33m\u001b[0m\u001b[1;33m\u001b[0m\u001b[0m\n\u001b[1;32m----> 3\u001b[1;33m \u001b[0mprint\u001b[0m\u001b[1;33m(\u001b[0m\u001b[0mKFC\u001b[0m\u001b[1;33m.\u001b[0m\u001b[0mindex\u001b[0m\u001b[1;33m(\u001b[0m\u001b[1;34m\"zz\"\u001b[0m\u001b[1;33m)\u001b[0m\u001b[1;33m)\u001b[0m\u001b[1;33m\u001b[0m\u001b[1;33m\u001b[0m\u001b[0m\n\u001b[0m",
      "\u001b[1;31mValueError\u001b[0m: substring not found"
     ]
    }
   ],
   "source": [
    "# The find() method is almost the same as the index() method, the only difference is\n",
    "#that the index() method raises an exception if the value is not found.\n",
    "print(KFC.index(\"zz\"))"
   ]
  },
  {
   "cell_type": "code",
   "execution_count": 14,
   "metadata": {},
   "outputs": [
    {
     "name": "stdout",
     "output_type": "stream",
     "text": [
      "My name is Ankit\n"
     ]
    },
    {
     "data": {
      "text/plain": [
       "' I have 10.00'"
      ]
     },
     "execution_count": 14,
     "metadata": {},
     "output_type": "execute_result"
    }
   ],
   "source": [
    "a = \"My name is {}\".format(\"Ankit\")\n",
    "print(a)\n",
    "b = \" I have {:.2f}\".format(10)\n",
    "b"
   ]
  },
  {
   "cell_type": "code",
   "execution_count": 16,
   "metadata": {},
   "outputs": [
    {
     "name": "stdout",
     "output_type": "stream",
     "text": [
      "10 is smaller than 15\n"
     ]
    }
   ],
   "source": [
    "c = {\n",
    "    'a' : 10,\n",
    "    'b' : 15\n",
    "}\n",
    "\n",
    "print('{a} is smaller than {b}'.format_map(c))"
   ]
  },
  {
   "cell_type": "code",
   "execution_count": 15,
   "metadata": {},
   "outputs": [
    {
     "name": "stdout",
     "output_type": "stream",
     "text": [
      "False\n"
     ]
    }
   ],
   "source": [
    "#The isalnum() method returns True if all the characters are alphanumeric,\n",
    "#meaning alphabet letter (a-z) and numbers (0-9)\n",
    "xxy = \"Anthony s23124\"\n",
    "x = xxy.isalnum()\n",
    "print(x)"
   ]
  },
  {
   "cell_type": "code",
   "execution_count": 17,
   "metadata": {},
   "outputs": [
    {
     "name": "stdout",
     "output_type": "stream",
     "text": [
      "True\n",
      "False\n"
     ]
    }
   ],
   "source": [
    "xxy = \"Anthonys23124\"\n",
    "x = xxy.isalnum()\n",
    "print(x)\n",
    "# isalpha -- Returns True if all characters in the string are in the alphabet\n",
    "print(xxy.isalpha())"
   ]
  },
  {
   "cell_type": "code",
   "execution_count": 19,
   "metadata": {},
   "outputs": [
    {
     "name": "stdout",
     "output_type": "stream",
     "text": [
      "True\n"
     ]
    }
   ],
   "source": [
    "#  isascii Check if all the characters in the text are ascii characters:\n",
    "print(xxy.isascii())"
   ]
  },
  {
   "cell_type": "code",
   "execution_count": 18,
   "metadata": {},
   "outputs": [
    {
     "name": "stdout",
     "output_type": "stream",
     "text": [
      "True\n",
      "False\n"
     ]
    }
   ],
   "source": [
    "#The isdecimal() method returns True if all the characters are decimals (0-9).\n",
    "a = \"\\u0030\" #unicode for 0 ---> this is zero\n",
    "b = \"\\u0047\" #unicode for G\n",
    "\n",
    "print(a.isdecimal())\n",
    "print(b.isdecimal())"
   ]
  },
  {
   "cell_type": "code",
   "execution_count": 20,
   "metadata": {},
   "outputs": [
    {
     "data": {
      "text/plain": [
       "False"
      ]
     },
     "execution_count": 20,
     "metadata": {},
     "output_type": "execute_result"
    }
   ],
   "source": [
    "# The isdigit() method returns True if all the characters are digits, otherwise False.\n",
    "xxy.isdigit()"
   ]
  },
  {
   "cell_type": "code",
   "execution_count": 21,
   "metadata": {},
   "outputs": [
    {
     "name": "stdout",
     "output_type": "stream",
     "text": [
      "True\n",
      "False\n"
     ]
    }
   ],
   "source": [
    "#The isidentifier() method returns True if the string is a valid identifier, otherwise False.\n",
    "# A string is considered a valid identifier if it only contains alphanumeric letters (a-z) and (0-9), or underscores (_).\n",
    "# A valid identifier cannot start with a number, or contain any spaces.\n",
    "print(xxy.isidentifier())\n",
    "print('xxy12@34'.isidentifier())  # @ CAN NOT BE USED AS IDENTIFIER"
   ]
  },
  {
   "cell_type": "code",
   "execution_count": 22,
   "metadata": {},
   "outputs": [
    {
     "data": {
      "text/plain": [
       "True"
      ]
     },
     "execution_count": 22,
     "metadata": {},
     "output_type": "execute_result"
    }
   ],
   "source": [
    "# islower() Returns True if all characters in the string are lower case\n",
    "xxy.islower()\n",
    "'abc'.islower()"
   ]
  },
  {
   "cell_type": "code",
   "execution_count": 23,
   "metadata": {},
   "outputs": [
    {
     "name": "stdout",
     "output_type": "stream",
     "text": [
      "False\n",
      "True\n"
     ]
    }
   ],
   "source": [
    "# isnumeric() Returns True if all characters in the string are numeric\n",
    "print('abc'.isnumeric())\n",
    "print('345'.isnumeric())"
   ]
  },
  {
   "cell_type": "code",
   "execution_count": 24,
   "metadata": {},
   "outputs": [
    {
     "name": "stdout",
     "output_type": "stream",
     "text": [
      "False\n",
      "True\n"
     ]
    }
   ],
   "source": [
    "# isprintable Returns True if all characters in the string are printable\n",
    "print('\\t\\nuyftd'.isprintable())\n",
    "print('nuyftd'.isprintable())"
   ]
  },
  {
   "cell_type": "code",
   "execution_count": 25,
   "metadata": {},
   "outputs": [],
   "source": [
    "# isspace() --->The isspace() method returns True if all the characters in a string are whitespaces, otherwise False."
   ]
  },
  {
   "cell_type": "code",
   "execution_count": 26,
   "metadata": {},
   "outputs": [
    {
     "name": "stdout",
     "output_type": "stream",
     "text": [
      "True\n",
      "False\n",
      "False\n"
     ]
    }
   ],
   "source": [
    "print('A Man Is A Human'.istitle())\n",
    "print('A Man Is A HumFan'.istitle())\n",
    "print('A Man Is a Human'.istitle())"
   ]
  },
  {
   "cell_type": "code",
   "execution_count": 27,
   "metadata": {},
   "outputs": [
    {
     "name": "stdout",
     "output_type": "stream",
     "text": [
      "False\n",
      "True\n",
      "True\n"
     ]
    }
   ],
   "source": [
    "print('A Man Is A Human'.isupper())\n",
    "print('MONKEY KING'.isupper())\n",
    "print('MONKEY'.isupper())"
   ]
  },
  {
   "cell_type": "code",
   "execution_count": 28,
   "metadata": {},
   "outputs": [
    {
     "name": "stdout",
     "output_type": "stream",
     "text": [
      "MNC##PMC##ASD\n"
     ]
    }
   ],
   "source": [
    "# The join() method takes all items in an iterable and joins them into one string.\n",
    "# A string must be specified as the separator.\n",
    "\n",
    "TCS = (\"MNC\",\"PMC\",\"ASD\")\n",
    "print(\"##\".join(TCS))\n"
   ]
  },
  {
   "cell_type": "code",
   "execution_count": 29,
   "metadata": {},
   "outputs": [
    {
     "name": "stdout",
     "output_type": "stream",
     "text": [
      "home                 I love it\n",
      "                home I love it\n"
     ]
    }
   ],
   "source": [
    "# ljust() ljust returns left justified number\n",
    "\n",
    "cv = \"home\"\n",
    "xyz = cv.ljust(20)\n",
    "print(xyz, \"I love it\")\n",
    "klm = cv.rjust(20)\n",
    "print(klm, \"I love it\")"
   ]
  },
  {
   "cell_type": "code",
   "execution_count": 30,
   "metadata": {},
   "outputs": [
    {
     "name": "stdout",
     "output_type": "stream",
     "text": [
      "False\n",
      "True\n",
      "True\n"
     ]
    }
   ],
   "source": [
    "print('Adsuer'.islower())\n",
    "print('asdff jk'.islower())\n",
    "print('wedf'.islower())"
   ]
  },
  {
   "cell_type": "code",
   "execution_count": 31,
   "metadata": {},
   "outputs": [
    {
     "name": "stdout",
     "output_type": "stream",
     "text": [
      "Hi Joe!\n"
     ]
    }
   ],
   "source": [
    "# maketrans() Returns a translation table to be used in translations\n",
    "\n",
    "txt = \"Hi Sam!\"\n",
    "x = \"mSa\"\n",
    "y = \"eJo\"\n",
    "mytable = txt.maketrans(x, y)\n",
    "print(txt.translate(mytable))"
   ]
  },
  {
   "cell_type": "code",
   "execution_count": 32,
   "metadata": {},
   "outputs": [
    {
     "name": "stdout",
     "output_type": "stream",
     "text": [
      "('I could eat bananas all day', '', '')\n",
      "('', '', 'I could eat bananas all day')\n"
     ]
    }
   ],
   "source": [
    "#partition  Matched is 2nd element in tuple\n",
    "#The partition() method searches for a specified string, and splits the string into a tuple containing three elements.\n",
    "txt = \"I could eat bananas all day\"\n",
    "print(txt.partition(\"apples\"))\n",
    "print(txt.rpartition(\"apples\"))"
   ]
  },
  {
   "cell_type": "code",
   "execution_count": 33,
   "metadata": {},
   "outputs": [
    {
     "name": "stdout",
     "output_type": "stream",
     "text": [
      "three three was a race horse, two two was one too.\n",
      "three three was a race horse, two two was three too.\n"
     ]
    }
   ],
   "source": [
    "# string.replace(oldvalue, newvalue, count)   -- Syntax  count is optional\n",
    "txt = \"one one was a race horse, two two was one too.\"\n",
    "print(txt.replace(\"one\", \"three\", 2))\n",
    "print(txt.replace(\"one\", \"three\"))"
   ]
  },
  {
   "cell_type": "code",
   "execution_count": 34,
   "metadata": {},
   "outputs": [
    {
     "name": "stdout",
     "output_type": "stream",
     "text": [
      "12\n"
     ]
    }
   ],
   "source": [
    "#The rfind() method finds the last occurrence of the specified value.\n",
    "#The rfind() method returns -1 if the value is not found.\n",
    "#The rfind() method is almost the same as the rindex() method.\n",
    "\n",
    "txt = \"Mi casa, su casa.\"\n",
    "print(txt.rfind(\"casa\")) # prints last max index no."
   ]
  },
  {
   "cell_type": "code",
   "execution_count": 35,
   "metadata": {},
   "outputs": [
    {
     "name": "stdout",
     "output_type": "stream",
     "text": [
      "-1\n"
     ]
    },
    {
     "ename": "ValueError",
     "evalue": "substring not found",
     "output_type": "error",
     "traceback": [
      "\u001b[1;31m---------------------------------------------------------------------------\u001b[0m",
      "\u001b[1;31mValueError\u001b[0m                                Traceback (most recent call last)",
      "\u001b[1;32m<ipython-input-35-260922d06769>\u001b[0m in \u001b[0;36m<module>\u001b[1;34m\u001b[0m\n\u001b[0;32m      3\u001b[0m \u001b[0mtxt\u001b[0m \u001b[1;33m=\u001b[0m \u001b[1;34m\"Hello, welcome to my world.\"\u001b[0m\u001b[1;33m\u001b[0m\u001b[1;33m\u001b[0m\u001b[0m\n\u001b[0;32m      4\u001b[0m \u001b[0mprint\u001b[0m\u001b[1;33m(\u001b[0m\u001b[0mtxt\u001b[0m\u001b[1;33m.\u001b[0m\u001b[0mrfind\u001b[0m\u001b[1;33m(\u001b[0m\u001b[1;34m\"q\"\u001b[0m\u001b[1;33m)\u001b[0m\u001b[1;33m)\u001b[0m \u001b[1;31m# returns -1 as value not found\u001b[0m\u001b[1;33m\u001b[0m\u001b[1;33m\u001b[0m\u001b[0m\n\u001b[1;32m----> 5\u001b[1;33m \u001b[0mprint\u001b[0m\u001b[1;33m(\u001b[0m\u001b[0mtxt\u001b[0m\u001b[1;33m.\u001b[0m\u001b[0mrindex\u001b[0m\u001b[1;33m(\u001b[0m\u001b[1;34m\"q\"\u001b[0m\u001b[1;33m)\u001b[0m\u001b[1;33m)\u001b[0m \u001b[1;31m# throws Error\u001b[0m\u001b[1;33m\u001b[0m\u001b[1;33m\u001b[0m\u001b[0m\n\u001b[0m",
      "\u001b[1;31mValueError\u001b[0m: substring not found"
     ]
    }
   ],
   "source": [
    "# rindex()  Searches the string for a specified value and returns the last position of where it was found\n",
    "# rindex() throws error if not found\n",
    "txt = \"Hello, welcome to my world.\"\n",
    "print(txt.rfind(\"q\")) # returns -1 as value not found\n",
    "print(txt.rindex(\"q\")) # throws Error"
   ]
  },
  {
   "cell_type": "code",
   "execution_count": 36,
   "metadata": {},
   "outputs": [
    {
     "name": "stdout",
     "output_type": "stream",
     "text": [
      "['apple, banana', 'cherry']\n"
     ]
    }
   ],
   "source": [
    "#rsplit --- The rsplit() method splits a string into a list, starting from the right.\n",
    "txt = \"apple, banana, cherry\"\n",
    "\n",
    "# setting the maxsplit parameter to 1, will return a list with 2 elements!\n",
    "x = txt.rsplit(\", \", 1)\n",
    "print(x)\n",
    "# note that the result has only 2 elements \"apple, banana\" is the first element, and \"cherry\" is the last."
   ]
  },
  {
   "cell_type": "code",
   "execution_count": 37,
   "metadata": {},
   "outputs": [
    {
     "name": "stdout",
     "output_type": "stream",
     "text": [
      "of all fruits      banana is my favorite\n",
      "banana     1111\n",
      "banana1111\n"
     ]
    }
   ],
   "source": [
    "txt = \"     banana     \"\n",
    "x = txt.rstrip()\n",
    "print(\"of all fruits\", x, \"is my favorite\")\n",
    "print(txt.lstrip() + \"1111\")\n",
    "\n",
    "#strip() Returns a trimmed version FROM BOTH SIDE of the string\n",
    "print(txt.strip() + \"1111\")"
   ]
  },
  {
   "cell_type": "code",
   "execution_count": 38,
   "metadata": {},
   "outputs": [
    {
     "name": "stdout",
     "output_type": "stream",
     "text": [
      "['apple', 'banana#cherry#orange']\n",
      "['apple#banana#cherry#orange']\n"
     ]
    }
   ],
   "source": [
    "# split() Splits the string at the specified separator, and returns a list\n",
    "# default is space, and split all character\n",
    "txt = \"apple#banana#cherry#orange\"\n",
    "\n",
    "# setting the maxsplit parameter to 1, will return a list with 2 elements!\n",
    "x = txt.split(\"#\", 1)\n",
    "print(x)\n",
    "print(txt.split())"
   ]
  },
  {
   "cell_type": "code",
   "execution_count": 39,
   "metadata": {},
   "outputs": [
    {
     "name": "stdout",
     "output_type": "stream",
     "text": [
      "['Thank you for the music', 'Welcome to the jungle']\n"
     ]
    }
   ],
   "source": [
    "# splitlines() Splits the string at line breaks and returns a list\n",
    "txt = \"Thank you for the music\\nWelcome to the jungle\"\n",
    "x = txt.splitlines()\n",
    "print(x)"
   ]
  },
  {
   "cell_type": "code",
   "execution_count": 40,
   "metadata": {},
   "outputs": [
    {
     "name": "stdout",
     "output_type": "stream",
     "text": [
      "abc def gh\n",
      "abc DEF gH\n",
      "Abc Def Gh\n",
      "ABC DEF GH\n"
     ]
    }
   ],
   "source": [
    "NAME = \"ABC def Gh\"\n",
    "print(NAME.lower())\n",
    "print(NAME.swapcase())\n",
    "print(NAME.title())\n",
    "print(NAME.upper())"
   ]
  },
  {
   "cell_type": "code",
   "execution_count": 41,
   "metadata": {},
   "outputs": [
    {
     "name": "stdout",
     "output_type": "stream",
     "text": [
      "Hello Pam!\n",
      "Hi Joe!\n"
     ]
    }
   ],
   "source": [
    "#use a dictionary with ascii codes to replace 83 (S) with 80 (P):\n",
    "#If you use a dictionary, you must use ascii codes instead of characters.\n",
    "mydict = {83:  80}\n",
    "txt = \"Hello Sam!\"\n",
    "print(txt.translate(mydict))\n",
    "\n",
    "txt = \"Hi Sam!\"\n",
    "x = \"mSa\"\n",
    "y = \"eJo\"\n",
    "mytable = txt.maketrans(x, y)\n",
    "print(txt.translate(mytable))"
   ]
  },
  {
   "cell_type": "code",
   "execution_count": 42,
   "metadata": {},
   "outputs": [
    {
     "name": "stdout",
     "output_type": "stream",
     "text": [
      "00000hello\n",
      "welcome to the jungle\n",
      "000010.000\n"
     ]
    }
   ],
   "source": [
    "# zfill() Fills the string with a specified number of 0 values at the beginning\n",
    "a = \"hello\"\n",
    "b = \"welcome to the jungle\"\n",
    "c = \"10.000\"\n",
    "\n",
    "print(a.zfill(10))\n",
    "print(b.zfill(10))\n",
    "print(c.zfill(10))"
   ]
  }
 ],
 "metadata": {
  "kernelspec": {
   "display_name": "Python 3",
   "language": "python",
   "name": "python3"
  },
  "language_info": {
   "codemirror_mode": {
    "name": "ipython",
    "version": 3
   },
   "file_extension": ".py",
   "mimetype": "text/x-python",
   "name": "python",
   "nbconvert_exporter": "python",
   "pygments_lexer": "ipython3",
   "version": "3.8.5"
  }
 },
 "nbformat": 4,
 "nbformat_minor": 4
}
